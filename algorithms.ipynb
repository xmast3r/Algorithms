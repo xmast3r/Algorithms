{
 "metadata": {
  "language_info": {
   "codemirror_mode": {
    "name": "ipython",
    "version": 3
   },
   "file_extension": ".py",
   "mimetype": "text/x-python",
   "name": "python",
   "nbconvert_exporter": "python",
   "pygments_lexer": "ipython3",
   "version": "3.8.3-final"
  },
  "orig_nbformat": 2,
  "kernelspec": {
   "name": "python3",
   "display_name": "Python 3",
   "language": "python"
  }
 },
 "nbformat": 4,
 "nbformat_minor": 2,
 "cells": [
  {
   "cell_type": "code",
   "execution_count": 7,
   "metadata": {},
   "outputs": [],
   "source": [
    "graph = { 'A': ['B', 'C'],\n",
    "  'B' : ['D', 'E'],\n",
    "  'C' : ['F'],\n",
    "  'D' : [],\n",
    "  'E' : ['F'],\n",
    "  'F' : []\n",
    "}\n",
    "\n",
    "visited = []\n",
    "queue = []\n",
    "def bfs(graph, node, visited):\n",
    "    queue.append(node)\n",
    "    \n",
    "    while queue:\n",
    "        s = queue.pop(0)\n",
    "        print('We are in ', s)\n",
    "        \n",
    "\n",
    "        for neighbour in graph[s]:\n",
    "            if neighbour not in visited:\n",
    "                visited.append(neighbour)\n",
    "                queue.append(neighbour)\n",
    "\n",
    "            \n"
   ]
  },
  {
   "cell_type": "code",
   "execution_count": 8,
   "metadata": {},
   "outputs": [
    {
     "output_type": "stream",
     "name": "stdout",
     "text": [
      "We are in  A\nWe are in  B\nWe are in  C\nWe are in  D\nWe are in  E\nWe are in  F\n"
     ]
    }
   ],
   "source": [
    "bfs(graph, 'A', visited)"
   ]
  },
  {
   "cell_type": "code",
   "execution_count": 17,
   "metadata": {},
   "outputs": [],
   "source": [
    "visited = []\n",
    "def dfs(graph, node, visited):\n",
    "    if node not in visited:\n",
    "        visited.append(node)\n",
    "        print('We are in ', node)\n",
    "        for neighbour in graph[node]:\n",
    "            dfs(graph, neighbour, visited)\n",
    "\n"
   ]
  },
  {
   "cell_type": "code",
   "execution_count": 18,
   "metadata": {},
   "outputs": [
    {
     "output_type": "stream",
     "name": "stdout",
     "text": [
      "We are in  A\nWe are in  B\nWe are in  D\nWe are in  E\nWe are in  F\nWe are in  C\n"
     ]
    }
   ],
   "source": [
    "dfs(graph, 'A', visited)"
   ]
  },
  {
   "cell_type": "code",
   "execution_count": 79,
   "metadata": {},
   "outputs": [],
   "source": [
    "import numpy as np\n",
    "array = np.random.randint(100, size = 100)"
   ]
  },
  {
   "cell_type": "code",
   "execution_count": 80,
   "metadata": {},
   "outputs": [
    {
     "output_type": "execute_result",
     "data": {
      "text/plain": [
       "100"
      ]
     },
     "metadata": {},
     "execution_count": 80
    }
   ],
   "source": [
    "len(array)"
   ]
  },
  {
   "cell_type": "code",
   "execution_count": 49,
   "metadata": {},
   "outputs": [],
   "source": [
    "def insertion_sort(array):\n",
    "    for i in range(len(array)):\n",
    "\n",
    "        key_item = array[i]\n",
    "\n",
    "        j = i - 1\n",
    "\n",
    "        while j>= 0 and array[j] > key_item:\n",
    "            array[j+1] = array[j]\n",
    "            j -= 1\n",
    "\n",
    "        array[j+1] = key_item\n",
    "    \n",
    "    return array\n"
   ]
  },
  {
   "cell_type": "code",
   "execution_count": 50,
   "metadata": {},
   "outputs": [
    {
     "output_type": "execute_result",
     "data": {
      "text/plain": [
       "array([ 0,  0,  2,  2,  2,  3,  4,  4,  4,  5,  6, 10, 10, 13, 14, 14, 16,\n",
       "       16, 16, 16, 18, 18, 18, 20, 21, 24, 25, 25, 26, 27, 27, 28, 28, 29,\n",
       "       29, 31, 31, 32, 34, 34, 36, 36, 37, 38, 38, 41, 42, 42, 43, 43, 45,\n",
       "       45, 47, 48, 49, 49, 51, 51, 52, 55, 56, 58, 59, 60, 61, 62, 63, 64,\n",
       "       65, 67, 67, 67, 68, 69, 70, 70, 71, 71, 76, 79, 81, 84, 85, 85, 86,\n",
       "       86, 86, 89, 90, 91, 91, 92, 94, 94, 94, 95, 95, 97, 99, 99])"
      ]
     },
     "metadata": {},
     "execution_count": 50
    }
   ],
   "source": [
    "insertion_sort(array)"
   ]
  },
  {
   "cell_type": "code",
   "execution_count": 110,
   "metadata": {},
   "outputs": [],
   "source": [
    "def merge(left, right):\n",
    "    if len(left) == 0:\n",
    "        return right\n",
    "    if len(right) == 0:\n",
    "        return left\n",
    "\n",
    "    result, index_left, index_right = [], 0, 0\n",
    "\n",
    "    while len(result) < len(left) + len(right):\n",
    "        if left[index_left] <= right[index_right]:\n",
    "            result.append(left[index_left])\n",
    "            index_left += 1\n",
    "        else:\n",
    "            result.append(right[index_right])\n",
    "            index_right += 1\n",
    "\n",
    "        if index_left == len(left):\n",
    "            result.extend(right[index_right:])\n",
    "            break\n",
    "\n",
    "        if index_right == len(right):\n",
    "            result.extend(left[index_left:])\n",
    "\n",
    "            break\n",
    "\n",
    "    return result\n",
    "        "
   ]
  },
  {
   "cell_type": "code",
   "execution_count": 111,
   "metadata": {},
   "outputs": [],
   "source": [
    "def merge_sort(array):\n",
    "    if len(array) < 2:\n",
    "        return array\n",
    "    \n",
    "    mid = len(array)//2\n",
    "\n",
    "    return merge(merge_sort(array[:mid]), merge_sort(array[mid:]))\n"
   ]
  },
  {
   "cell_type": "code",
   "execution_count": 118,
   "metadata": {},
   "outputs": [],
   "source": [
    "def quick_sort(array):\n",
    "    if len(array) < 2:\n",
    "        return array\n",
    "    \n",
    "    pivot = array[np.random.randint(0, len(array) - 1)]\n",
    "\n",
    "    low, same, high = [], [], []\n",
    "    for item in array:\n",
    "        if item < pivot:\n",
    "            low.append(item)\n",
    "        if item > pivot:\n",
    "            high.append(item)\n",
    "        if item == pivot:\n",
    "            same.append(item)\n",
    "\n",
    "    return quick_sort(low) + same + quick_sort(high)"
   ]
  },
  {
   "cell_type": "code",
   "execution_count": 119,
   "metadata": {},
   "outputs": [],
   "source": [
    "arr1 = np.random.randint(100, size = 100)"
   ]
  },
  {
   "cell_type": "code",
   "execution_count": 122,
   "metadata": {},
   "outputs": [
    {
     "output_type": "execute_result",
     "data": {
      "text/plain": [
       "[0,\n",
       " 0,\n",
       " 1,\n",
       " 1,\n",
       " 3,\n",
       " 4,\n",
       " 4,\n",
       " 4,\n",
       " 4,\n",
       " 4,\n",
       " 5,\n",
       " 5,\n",
       " 7,\n",
       " 9,\n",
       " 9,\n",
       " 10,\n",
       " 10,\n",
       " 11,\n",
       " 11,\n",
       " 13,\n",
       " 13,\n",
       " 16,\n",
       " 17,\n",
       " 18,\n",
       " 18,\n",
       " 19,\n",
       " 21,\n",
       " 21,\n",
       " 23,\n",
       " 24,\n",
       " 24,\n",
       " 26,\n",
       " 26,\n",
       " 27,\n",
       " 27,\n",
       " 28,\n",
       " 29,\n",
       " 31,\n",
       " 33,\n",
       " 33,\n",
       " 34,\n",
       " 34,\n",
       " 37,\n",
       " 37,\n",
       " 39,\n",
       " 40,\n",
       " 40,\n",
       " 41,\n",
       " 42,\n",
       " 42,\n",
       " 43,\n",
       " 43,\n",
       " 43,\n",
       " 43,\n",
       " 44,\n",
       " 44,\n",
       " 46,\n",
       " 46,\n",
       " 49,\n",
       " 49,\n",
       " 50,\n",
       " 50,\n",
       " 51,\n",
       " 53,\n",
       " 54,\n",
       " 55,\n",
       " 57,\n",
       " 58,\n",
       " 58,\n",
       " 58,\n",
       " 60,\n",
       " 62,\n",
       " 63,\n",
       " 64,\n",
       " 68,\n",
       " 71,\n",
       " 75,\n",
       " 75,\n",
       " 76,\n",
       " 77,\n",
       " 77,\n",
       " 78,\n",
       " 79,\n",
       " 81,\n",
       " 81,\n",
       " 82,\n",
       " 82,\n",
       " 83,\n",
       " 83,\n",
       " 83,\n",
       " 83,\n",
       " 84,\n",
       " 85,\n",
       " 89,\n",
       " 89,\n",
       " 89,\n",
       " 90,\n",
       " 91,\n",
       " 93,\n",
       " 93]"
      ]
     },
     "metadata": {},
     "execution_count": 122
    }
   ],
   "source": [
    "quick_sort(arr1)"
   ]
  },
  {
   "cell_type": "code",
   "execution_count": null,
   "metadata": {},
   "outputs": [],
   "source": []
  }
 ]
}